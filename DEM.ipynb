{
 "cells": [
  {
   "cell_type": "code",
   "execution_count": 1,
   "metadata": {},
   "outputs": [],
   "source": [
    "import os\n",
    "import time\n",
    "import sys\n",
    "\n",
    "import anuga\n",
    "\n",
    "from math import sin, pi, exp"
   ]
  },
  {
   "cell_type": "code",
   "execution_count": 2,
   "metadata": {},
   "outputs": [
    {
     "name": "stdout",
     "output_type": "stream",
     "text": [
      "Reading METADATA from 11f3.prj\n",
      "Reading DEM from 11f3.asc\n",
      "Got 542 lines\n",
      "Store to NetCDF file 11f3.dem\n",
      "Reading DEM from 11f3.dem\n",
      "Store to NetCDF file 11f3.pts\n",
      "There are 581560 values in the elevation\n",
      "There are 581560 values in the clipped elevation\n",
      "There are 0 NODATA_values in the clipped elevation\n"
     ]
    }
   ],
   "source": [
    "# Create DEM from asc data\n",
    "anuga.asc2dem('11f3.asc', use_cache=False, verbose=True)\n",
    "\n",
    "# Create DEM from asc data\n",
    "anuga.dem2pts('11f3.dem', use_cache=False, \n",
    "              verbose=True)\n",
    "\n",
    "# Create roughness raster from asc data\n",
    "#anuga.asc2dem('11_man_c.asc', use_cache=False, verbose=True)\n",
    "\n",
    "# Create roughness raster from asc data\n",
    "#anuga.dem2pts('11_man_c.dem', use_cache=False, \n",
    "#              verbose=True)"
   ]
  },
  {
   "cell_type": "code",
   "execution_count": 3,
   "metadata": {
    "scrolled": true
   },
   "outputs": [
    {
     "name": "stdout",
     "output_type": "stream",
     "text": [
      "Generating mesh to file '11f.msh'\n",
      "Domain: Initialising\n",
      "Pmesh_to_Domain: Initialising\n",
      "Pmesh_to_Domain: Done\n",
      "General_mesh: Building basic mesh structure\n",
      "General_mesh: Computing areas, normals, edgelengths, centroids and radii\n",
      "General Mesh: Building inverted triangle structure\n",
      "Mesh: Initialising\n",
      "Mesh: Building neigbour structure\n",
      "Mesh: Building surrogate neigbour structure\n",
      "Mesh: Building boundary dictionary\n",
      "Mesh: Building tagged elements dictionary\n",
      "Mesh: Done\n",
      "Domain: Expose mesh attributes\n",
      "Domain: Expose quantity names and types\n",
      "Domain: Build Quantities\n",
      "Domain: Set up communication buffers \n",
      "Domain: Set up triangle/node full flags \n",
      "Domain: Set defaults\n",
      "Domain: Set work arrays\n",
      "Domain: Initialising quantity values\n",
      "Domain: Done\n",
      "##########################################################################\n",
      "#\n",
      "# Using discontinuous elevation solver DE0\n",
      "#\n",
      "# First order timestepping\n",
      "#\n",
      "# Make sure you use centroid values when reporting on important output quantities\n",
      "#\n",
      "##########################################################################\n",
      "WARNING: Datum of NAD83 specified.\n",
      "Default Datum is wgs84.\n",
      "ANUGA does not correct for differences in datums.\n",
      "WARNING: Units of METERS specified.\n",
      "Default units is m.\n",
      "ANUGA does not correct for differences in units.\n"
     ]
    }
   ],
   "source": [
    "bounding_polygon = anuga.read_polygon('extent.csv')\n",
    "domain = anuga.create_domain_from_regions(bounding_polygon,\n",
    "                                    boundary_tags={'top': [0],\n",
    "                                                   'right': [1],\n",
    "                                                   'bottom': [2],\n",
    "                                                   'left': [3]},\n",
    "                                    maximum_triangle_area=1,\n",
    "                                    mesh_filename='11f.msh',\n",
    "                                    use_cache=False,\n",
    "                                    verbose=True)\n",
    "\n",
    "#domain = anuga.Domain(points, vertices, boundary)\n",
    "domain.set_name('11f3_NoMan')\n",
    "domain.set_datadir('.')\n",
    "\n",
    "domain.set_quantity('elevation', filename='11f3.pts')\n",
    "#domain.set_quantity('friction',filename='11_man_c.pts')\n",
    "domain.set_quantity('friction',0.261)\n",
    "domain.set_quantity('stage',expression='elevation')  # DRY BED\n",
    "\n",
    "Quantity(domain, name = 'veg_diameter', register = True)\n",
    "domain.set_quantity('veg_diameter', 0.50)\n",
    "\n",
    "Quantity(domain, name = 'veg_sspacing', register = True)\n",
    "domain.set_quantity('veg_diameter', 0.00064)\n",
    "\n"
   ]
  },
  {
   "cell_type": "code",
   "execution_count": 4,
   "metadata": {},
   "outputs": [],
   "source": [
    "Br = anuga.Reflective_boundary(domain)      # Solid reflective wall\n",
    "Bt = anuga.Transmissive_boundary(domain)    # Continue all values on boundary\n",
    "\n",
    "\n",
    "domain.set_boundary({'left': Br, 'right': Bt, 'top': Br, 'bottom': Br})\n",
    "\n",
    "# Setup inlet flow\n",
    "center = (538416.0, 4190718.0)\n",
    "radius = 10.0\n",
    "region0 = anuga.Region(domain, center=center, radius=radius)\n",
    "fixed_inflow = anuga.Inlet_operator(domain, region0 , Q=20)"
   ]
  },
  {
   "cell_type": "code",
   "execution_count": null,
   "metadata": {},
   "outputs": [
    {
     "name": "stdout",
     "output_type": "stream",
     "text": [
      "Time = 0.0000, steps=0 (146s)\n",
      "Time = 500.0000, delta t = 1000.00000000, steps=1 (1s)\n",
      "Time = 1000.0000, delta t in [0.02051730, 0.10539335], steps=5148 (4427s)\n",
      "Time = 1500.0000, delta t in [0.09306568, 0.09739862], steps=5270 (4604s)\n",
      "Time = 2000.0000, delta t in [0.09739906, 0.09850080], steps=5092 (4191s)\n",
      "Time = 2500.0000, delta t in [0.07164000, 0.09852990], steps=6062 (5000s)\n"
     ]
    }
   ],
   "source": [
    "for t in domain.evolve(yieldstep=500, finaltime=6500):\n",
    "    print domain.timestepping_statistics()"
   ]
  },
  {
   "cell_type": "code",
   "execution_count": null,
   "metadata": {},
   "outputs": [],
   "source": [
    "\n"
   ]
  },
  {
   "cell_type": "code",
   "execution_count": null,
   "metadata": {},
   "outputs": [],
   "source": []
  }
 ],
 "metadata": {
  "kernelspec": {
   "display_name": "Python 2",
   "language": "python",
   "name": "python2"
  },
  "language_info": {
   "codemirror_mode": {
    "name": "ipython",
    "version": 2
   },
   "file_extension": ".py",
   "mimetype": "text/x-python",
   "name": "python",
   "nbconvert_exporter": "python",
   "pygments_lexer": "ipython2",
   "version": "2.7.15"
  }
 },
 "nbformat": 4,
 "nbformat_minor": 2
}
